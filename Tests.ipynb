{
 "cells": [
  {
   "cell_type": "code",
   "execution_count": 76,
   "metadata": {},
   "outputs": [],
   "source": [
    "import numpy as np\n",
    "from gensim.scripts.glove2word2vec import glove2word2vec\n",
    "from gensim.models.keyedvectors import KeyedVectors\n",
    "from collections import defaultdict, UserDict\n",
    "import mygrad as mg\n",
    "from pathlib import Path\n",
    "import pandas as pd\n",
    "import re, string\n",
    "\n",
    "from noggin import create_plot\n",
    "%matplotlib notebook"
   ]
  },
  {
   "cell_type": "code",
   "execution_count": 8,
   "metadata": {},
   "outputs": [],
   "source": [
    "unzipped_folder = \"glove.twitter.27B/\" # ENTER THE PATH TO THE UNZIPPED `glove.twitter.27B` HERE\n",
    "\n",
    "# use glove2word2vec to convert GloVe vectors in text format into the word2vec text format:\n",
    "if not Path('gensim_glove_vectors_200.txt').exists():\n",
    "    \n",
    "    # assumes you've downloaded and extracted the glove stuff\n",
    "    glove2word2vec(glove_input_file= unzipped_folder + \"glove.twitter.27B.200d.txt\", \n",
    "               word2vec_output_file=\"gensim_glove_vectors_200.txt\")\n",
    "\n",
    "# read the word2vec txt to a gensim model using KeyedVectors\n",
    "glove = KeyedVectors.load_word2vec_format(\"gensim_glove_vectors_200.txt\", binary=False)"
   ]
  },
  {
   "cell_type": "code",
   "execution_count": 9,
   "metadata": {},
   "outputs": [],
   "source": [
    "from mynn.layers.conv import conv\n",
    "from mynn.layers.dense import dense\n",
    "from mynn.activations.relu import relu\n",
    "from mygrad.nnet.layers import max_pool\n",
    "from mynn.activations.sigmoid import sigmoid\n",
    "from mynn.initializers.glorot_normal import glorot_normal\n",
    "from mynn.optimizers.adam import Adam\n",
    "\n",
    "class Model:\n",
    "    def __init__(self):\n",
    "        \"\"\" Initializes model layers and weights. \"\"\"\n",
    "        # <COGINST>\n",
    "        init_kwargs = {'gain': np.sqrt(2)}\n",
    "        self.conv1 = conv(200, 250, 2, stride = 1, weight_initializer = glorot_normal, weight_kwargs = init_kwargs)\n",
    "        self.dense1 = dense(250, 250, weight_initializer = glorot_normal, weight_kwargs = init_kwargs)\n",
    "        self.dense2 = dense(250,1, weight_initializer = glorot_normal, weight_kwargs = init_kwargs)\n",
    "        # </COGINST>\n",
    "    \n",
    "    \n",
    "    def __call__(self, x):\n",
    "        \"\"\" Forward data through the network.\n",
    "        \n",
    "        This allows us to conveniently initialize a model `m` and then send data through it\n",
    "        to be classified by calling `m(x)`.\n",
    "        \n",
    "        Parameters\n",
    "        ----------\n",
    "        x : Union[numpy.ndarray, mygrad.Tensor], shape=(N, D, S)\n",
    "            The data to forward through the network.\n",
    "            \n",
    "        Returns\n",
    "        -------\n",
    "        mygrad.Tensor, shape=(N, 1)\n",
    "            The model outputs.\n",
    "        \n",
    "        Notes\n",
    "        -----\n",
    "        N = batch size\n",
    "        D = embedding size\n",
    "        S = sentence length\n",
    "        \"\"\"\n",
    "        # <COGINST>\n",
    "        # (N, D, S) with D = 200 and S = 77\n",
    "        x = self.conv1(x) # conv output shape (N, F, S') with F = 250 and S' = 75\n",
    "        x = relu(x)\n",
    "        x = max_pool(x, (x.shape[-1],), 1) # global pool output shape (N, F, S') with F = 250, S' = 1\n",
    "        x = x.reshape(x.shape[0], -1)  # (N, F, 1) -> (N, F)\n",
    "        x = self.dense1(x) # (N, F) @ (F, D1) = (N, D1)\n",
    "        x = relu(x) \n",
    "        x = self.dense2(x) # (N, D1) @ (D1, 1) = (N, 1)\n",
    "        x = sigmoid(x)\n",
    "        return x # output shape (N, 1)\n",
    "        # </COGINST>\n",
    "    \n",
    "    \n",
    "    @property\n",
    "    def parameters(self, load = None):\n",
    "        \"\"\" A convenience function for getting all the parameters of our model. \"\"\"\n",
    "        return self.conv1.parameters + self.dense1.parameters + self.dense2.parameters # <COGLINE>"
   ]
  },
  {
   "cell_type": "code",
   "execution_count": 124,
   "metadata": {},
   "outputs": [],
   "source": [
    "def get_embedding(text):\n",
    "    \"\"\" Returns the word embedding for a given word, reshaping the word embedding array. \"\"\"\n",
    "    out = []\n",
    "    for word in text:\n",
    "        if word not in glove:\n",
    "            continue\n",
    "        else:\n",
    "            out.append(glove.get_vector(word))\n",
    "    while len(out) < 80:\n",
    "        out.append([0]*200)\n",
    "    return np.array(out).T\n",
    "\n"
   ]
  },
  {
   "cell_type": "code",
   "execution_count": 117,
   "metadata": {},
   "outputs": [],
   "source": [
    "punc_regex = re.compile('[{}]'.format(re.escape(string.punctuation)))\n",
    "def strip_punc(text):\n",
    "    return punc_regex.sub('', text).lower()"
   ]
  },
  {
   "cell_type": "code",
   "execution_count": 19,
   "metadata": {},
   "outputs": [],
   "source": [
    "test = pd.read_csv('training.1600000.processed.noemoticon.csv', encoding='ANSI', header=None)"
   ]
  },
  {
   "cell_type": "code",
   "execution_count": 60,
   "metadata": {},
   "outputs": [
    {
     "data": {
      "text/plain": [
       "0"
      ]
     },
     "execution_count": 60,
     "metadata": {},
     "output_type": "execute_result"
    }
   ],
   "source": [
    "sum(test[0]==2)"
   ]
  },
  {
   "cell_type": "code",
   "execution_count": 70,
   "metadata": {},
   "outputs": [
    {
     "data": {
      "text/plain": [
       "\"@switchfoot http://twitpic.com/2y1zl - Awww, that's a bummer.  You shoulda got David Carr of Third Day to do it. ;D\""
      ]
     },
     "execution_count": 70,
     "metadata": {},
     "output_type": "execute_result"
    }
   ],
   "source": [
    "test[5][0]"
   ]
  },
  {
   "cell_type": "code",
   "execution_count": 129,
   "metadata": {},
   "outputs": [
    {
     "name": "stdout",
     "output_type": "stream",
     "text": [
      "['is', 'upset', 'that', 'he', 'cant', 'update', 'his', 'facebook', 'by', 'texting', 'it', 'and', 'might', 'cry', 'as', 'a', 'result', 'school', 'today', 'also', 'blah']\n"
     ]
    }
   ],
   "source": [
    "sent1 = strip_punc(test[5][0]).split()\n",
    "sent2 = strip_punc(test[5][1]).split()\n",
    "print(sent2)"
   ]
  },
  {
   "cell_type": "code",
   "execution_count": 132,
   "metadata": {},
   "outputs": [
    {
     "data": {
      "text/plain": [
       "(2, 200, 80)"
      ]
     },
     "execution_count": 132,
     "metadata": {},
     "output_type": "execute_result"
    }
   ],
   "source": [
    "sent1 = get_embedding(sent1)\n",
    "sent2 = get_embedding(sent2)\n",
    "overall = np.concatenate((sent1, sent2), axis = 0).reshape(-1, len(sent1), sent1.shape[1])\n",
    "overall.shape"
   ]
  },
  {
   "cell_type": "code",
   "execution_count": 133,
   "metadata": {},
   "outputs": [
    {
     "data": {
      "text/plain": [
       "(200, 80)"
      ]
     },
     "execution_count": 133,
     "metadata": {},
     "output_type": "execute_result"
    }
   ],
   "source": [
    "sent1.shape"
   ]
  },
  {
   "cell_type": "code",
   "execution_count": 75,
   "metadata": {},
   "outputs": [
    {
     "data": {
      "text/plain": [
       "True"
      ]
     },
     "execution_count": 75,
     "metadata": {},
     "output_type": "execute_result"
    }
   ],
   "source": [
    "'switchfoot' in glove"
   ]
  },
  {
   "cell_type": "code",
   "execution_count": 84,
   "metadata": {},
   "outputs": [
    {
     "data": {
      "text/plain": [
       "array([ 5.1358e-01,  5.2314e-01, -8.5142e-02, -7.1516e-02, -1.4380e-01,\n",
       "       -1.0719e+00,  5.7060e-01, -3.7303e-01,  2.6237e-01, -6.4902e-02,\n",
       "        6.1987e-01,  5.2580e-01,  2.4914e-01, -3.7741e-01, -3.1725e-01,\n",
       "       -1.9673e-01,  4.1449e-01, -2.7580e-01,  3.3495e-01, -4.7852e-02,\n",
       "       -5.5645e-01,  4.1157e-01, -6.4329e-01,  5.1918e-01, -6.0383e-01,\n",
       "       -8.2681e-01,  5.3940e-01,  2.9415e-01, -2.1578e-01,  5.2302e-01,\n",
       "        4.3424e-01, -6.5430e-02, -3.6149e-01, -3.1745e-01,  7.7248e-02,\n",
       "       -3.8573e-01,  4.9676e-01, -6.4950e-01, -4.6011e-01, -4.8237e-01,\n",
       "       -9.2141e-01,  7.5239e-01, -4.9764e-01,  6.8488e-01, -1.6132e-01,\n",
       "        3.6804e-01, -7.0045e-01, -5.3460e-01, -2.1977e-01,  3.5038e-01,\n",
       "       -2.6494e-01,  9.9057e-02, -2.9904e-01, -4.6367e-01,  6.1319e-02,\n",
       "       -6.6864e-01, -6.5722e-01,  4.2323e-01,  4.1458e-01, -7.8972e-02,\n",
       "       -1.5018e-01, -6.8248e-02,  2.1984e-01,  1.0073e+00, -2.0391e-01,\n",
       "        3.5555e-01, -1.8128e-01, -6.6556e-02,  4.9067e-01, -1.5880e-01,\n",
       "        4.9736e-01, -4.1898e-01,  7.2151e-01, -6.8669e-01, -3.9440e-02,\n",
       "        1.3567e-03, -3.8358e-01, -4.5477e-02, -1.0417e-01, -8.1844e-01,\n",
       "        5.3517e-02,  1.1842e-01,  4.3418e-01, -6.5805e-01,  3.1365e-01,\n",
       "       -1.4490e-01,  1.8850e-02, -2.7316e-01,  1.2717e-01,  4.9879e-01,\n",
       "        6.3877e-04,  5.6379e-02,  2.1097e-01, -4.7962e-01, -8.0338e-02,\n",
       "       -8.1187e-02,  7.0527e-03,  1.0342e-01, -1.0329e-01,  1.6909e-02,\n",
       "       -3.2804e-02, -2.5456e-01,  1.4014e-01, -2.3528e-01, -5.2857e-02,\n",
       "        2.6624e-01, -6.0532e-01, -2.8873e-01,  2.1961e-01, -4.8474e-01,\n",
       "       -3.6893e-01, -3.4827e-01, -3.8085e-01,  5.8401e-01,  7.1825e-01,\n",
       "        5.1264e-01,  7.6742e-01,  3.2775e-01,  2.7582e-01,  7.1160e-02,\n",
       "       -7.5714e-01,  6.9124e-01,  2.2707e-01, -4.6348e-01,  1.9058e-01,\n",
       "       -3.2880e-01, -7.3196e-02,  1.5837e-01,  7.2378e-02,  3.3574e-01,\n",
       "       -3.0150e-01, -7.6771e-01, -3.3114e-01,  3.1019e-01,  4.4607e-01,\n",
       "       -2.5980e-02,  2.6983e-01,  3.4022e-01, -1.3433e-01,  1.4302e-01,\n",
       "        3.0501e-01, -5.7663e-02, -2.6441e-01, -1.5024e-01, -6.7489e-02,\n",
       "       -1.4667e-01,  3.6591e-01,  9.4242e-03, -3.4611e-01,  3.8087e-01,\n",
       "        4.9430e-01, -3.7888e-01, -4.0167e+00,  1.3314e-01, -2.7984e-01,\n",
       "       -1.4284e-02, -5.5341e-02, -3.9921e-01, -6.2806e-01,  5.0985e-01,\n",
       "        3.7514e-01,  1.8726e-01,  2.8705e-01, -9.6446e-02,  7.1763e-01,\n",
       "       -7.0754e-03, -1.1029e-01, -2.7716e-01, -2.8654e-01,  2.4475e-01,\n",
       "        7.0614e-01, -1.2362e-01, -1.8787e-01, -2.0015e-01, -5.0317e-01,\n",
       "        3.5281e-01,  3.9477e-01,  1.0095e-01,  1.5291e-01, -4.6560e-01,\n",
       "       -1.5130e-01, -9.4868e-01,  3.3912e-02,  2.7038e-01, -3.7524e-01,\n",
       "        5.8982e-01,  5.4966e-02,  1.9259e-01,  2.6612e-01, -2.1678e-01,\n",
       "        7.2735e-01, -6.2828e-01, -6.4665e-02, -6.2106e-01,  7.3166e-01,\n",
       "        2.7985e-02, -3.3782e-01,  9.9175e-02,  1.7800e-01,  2.6390e-02],\n",
       "      dtype=float32)"
      ]
     },
     "execution_count": 84,
     "metadata": {},
     "output_type": "execute_result"
    }
   ],
   "source": [
    "glove['link']"
   ]
  },
  {
   "cell_type": "code",
   "execution_count": 85,
   "metadata": {},
   "outputs": [
    {
     "data": {
      "text/plain": [
       "[('links', 0.7532831430435181),\n",
       " ('click', 0.6905517578125),\n",
       " ('check', 0.6621154546737671),\n",
       " ('site', 0.6570886969566345),\n",
       " ('email', 0.6555554866790771),\n",
       " ('download', 0.6531580686569214),\n",
       " ('post', 0.6486697196960449),\n",
       " ('website', 0.6470268964767456),\n",
       " ('video', 0.6336097121238708),\n",
       " ('page', 0.6301894783973694)]"
      ]
     },
     "execution_count": 85,
     "metadata": {},
     "output_type": "execute_result"
    }
   ],
   "source": [
    "glove.most_similar('link')"
   ]
  },
  {
   "cell_type": "code",
   "execution_count": 89,
   "metadata": {},
   "outputs": [
    {
     "data": {
      "text/plain": [
       "[('htt', 0.7486403584480286),\n",
       " ('https', 0.6764466166496277),\n",
       " ('…', 0.6189000606536865),\n",
       " ('ht', 0.6136857271194458),\n",
       " ('<url>', 0.577113151550293),\n",
       " ('cont', 0.551079511642456),\n",
       " ('via', 0.5155504941940308),\n",
       " ('nhttp', 0.5139539241790771),\n",
       " ('.', 0.5073135495185852),\n",
       " ('/', 0.48933911323547363)]"
      ]
     },
     "execution_count": 89,
     "metadata": {},
     "output_type": "execute_result"
    }
   ],
   "source": [
    "glove.most_similar('http')"
   ]
  },
  {
   "cell_type": "code",
   "execution_count": 90,
   "metadata": {},
   "outputs": [
    {
     "data": {
      "text/plain": [
       "[('via', 0.7011606097221375),\n",
       " ('<hashtag>', 0.6496855020523071),\n",
       " ('<allcaps>', 0.6055645942687988),\n",
       " ('ht', 0.6022868752479553),\n",
       " ('>', 0.5933758020401001),\n",
       " ('video', 0.587887167930603),\n",
       " ('vía', 0.5816200971603394),\n",
       " ('http', 0.577113151550293),\n",
       " ('<user>', 0.5766465663909912),\n",
       " ('…', 0.5734578967094421)]"
      ]
     },
     "execution_count": 90,
     "metadata": {},
     "output_type": "execute_result"
    }
   ],
   "source": [
    "glove.most_similar('<url>')"
   ]
  },
  {
   "cell_type": "code",
   "execution_count": 102,
   "metadata": {},
   "outputs": [
    {
     "data": {
      "text/plain": [
       "70183"
      ]
     },
     "execution_count": 102,
     "metadata": {},
     "output_type": "execute_result"
    }
   ],
   "source": [
    "sum('http'in item for item in (test.values)[:,5])"
   ]
  },
  {
   "cell_type": "code",
   "execution_count": 123,
   "metadata": {},
   "outputs": [
    {
     "data": {
      "text/plain": [
       "110"
      ]
     },
     "execution_count": 123,
     "metadata": {},
     "output_type": "execute_result"
    }
   ],
   "source": [
    "max(len(item.split(' ')) for item in (test.values)[:,5])"
   ]
  },
  {
   "cell_type": "code",
   "execution_count": null,
   "metadata": {},
   "outputs": [],
   "source": []
  }
 ],
 "metadata": {
  "kernelspec": {
   "display_name": "Python 3",
   "language": "python",
   "name": "python3"
  },
  "language_info": {
   "codemirror_mode": {
    "name": "ipython",
    "version": 3
   },
   "file_extension": ".py",
   "mimetype": "text/x-python",
   "name": "python",
   "nbconvert_exporter": "python",
   "pygments_lexer": "ipython3",
   "version": "3.8.3"
  }
 },
 "nbformat": 4,
 "nbformat_minor": 4
}
